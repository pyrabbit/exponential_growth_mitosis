{
 "cells": [
  {
   "cell_type": "markdown",
   "metadata": {},
   "source": [
    "This week I have created a simulator for cellular mitosis. A naive definition of cellular mitosis would be the reproduction of cells through the process of copying DNA and splitting the parent cell into two child cells. To help illustrate the mitosis process, consider the following image pulled from Wikipedia:\n",
    "\n",
    "![Mitosis](./2880px-Major_events_in_mitosis.svg.png)\n",
    "\n",
    "In our program, we are going to measure the performance of a function named 'simulate' whose sole purpose is to run through the mitosis lifecycle 'N' number of times. This program will demonstrate how cells (and our program itself) grow at an exponential rate. The rate of growth can be best described as:"
   ]
  },
  {
   "cell_type": "code",
   "execution_count": 29,
   "metadata": {},
   "outputs": [
    {
     "data": {
      "text/latex": [
       "\\begin{equation}\n",
       "  f(n) = 1 \\times 2^{n}\n",
       "\\end{equation}\n"
      ],
      "text/plain": [
       "<IPython.core.display.Latex object>"
      ]
     },
     "metadata": {},
     "output_type": "display_data"
    }
   ],
   "source": [
    "%%latex\n",
    "\\begin{equation}\n",
    "  f(n) = 1 \\times 2^{n}\n",
    "\\end{equation}"
   ]
  },
  {
   "cell_type": "markdown",
   "metadata": {},
   "source": [
    "A brief explanation of the equation above:\n",
    "\n",
    "    - 'n' is the number of lifecycles \n",
    "    - '2' is the rate at which the cells duplicate\n",
    "    - '1' is the number of starting cells\n",
    "    \n",
    "In our simulator we have a base class called 'Cell' which has a single method, 'mitosis', which splits the currently instantiated cell into two cells. For the sake of simplicity the 'mitosis' method foregoes any meaningful implementation and only returns an array which includes the current cell and a newly developed cell. Consider the following implementation of a cell using Python 3.6."
   ]
  },
  {
   "cell_type": "code",
   "execution_count": 30,
   "metadata": {
    "deletable": true,
    "editable": true
   },
   "outputs": [],
   "source": [
    "class Cell(object):\n",
    "    \n",
    "    def mitosis(self):\n",
    "        # Cell goes through the process of replicating DNA and splitting\n",
    "        # For the sake of simplicity, we will say this process takes 100ms \n",
    "        return [self, Cell()]\n",
    "    "
   ]
  },
  {
   "cell_type": "markdown",
   "metadata": {},
   "source": [
    "Furthermore, we get to the core of our program which is the 'simulate' method. This method is independent of any class and relies solely upon itself."
   ]
  },
  {
   "cell_type": "code",
   "execution_count": 31,
   "metadata": {
    "deletable": true,
    "editable": true
   },
   "outputs": [],
   "source": [
    "def simulate(lifecycles=1, starting_cell_count=1):\n",
    "    cells = list()\n",
    "    cells.extend(map(lambda x: Cell(), range(0, starting_cell_count))) # O(3n) or O(2n) not really sure\n",
    "    \n",
    "    for i in range(0, lifecycles): # O(2^n)\n",
    "        # Initialize a temporary list to hold our newly cloned cells\n",
    "        cloned_cells = list() \n",
    "        \n",
    "        # All cells will go through mitosis in a synchronous fashion\n",
    "        for cell in cells:\n",
    "            mitosis = cell.mitosis()\n",
    "            cloned_cells.extend(mitosis)\n",
    "            \n",
    "        # Replace our initial cells list with the extended cell list. This is what makes our\n",
    "        # program cumbersome. When we iterate through the next lifecycle, the number of cells\n",
    "        # to undergo the mitosis process has doubled.\n",
    "        cells = cloned_cells\n",
    "        \n",
    "    cell_count = len(cells)\n",
    "    \n",
    "    # Return how many times we iterated and the total estimated runtime (assuming 100ms mitosis)\n",
    "    return {\n",
    "        \"operations\": cell_count-1,\n",
    "        \"cells_count\": cell_count,\n",
    "        \"runtime\": f'{(cell_count-1) * 100} ms',\n",
    "        \"lifecycles\": lifecycles\n",
    "    }"
   ]
  },
  {
   "cell_type": "markdown",
   "metadata": {},
   "source": [
    "With default parameters, my best guess of our function's runtime can be represented mathematically as the following: "
   ]
  },
  {
   "cell_type": "code",
   "execution_count": 32,
   "metadata": {},
   "outputs": [
    {
     "data": {
      "text/latex": [
       "\\begin{equation}\n",
       "  T(n) = 2^{n} + 3n = \\theta (2^{n})\n",
       "\\end{equation}\n"
      ],
      "text/plain": [
       "<IPython.core.display.Latex object>"
      ]
     },
     "metadata": {},
     "output_type": "display_data"
    }
   ],
   "source": [
    "%%latex\n",
    "\\begin{equation}\n",
    "  T(n) = 2^{n} + 3n = \\theta (2^{n})\n",
    "\\end{equation}"
   ]
  },
  {
   "cell_type": "markdown",
   "metadata": {},
   "source": [
    "Below you will find an example of data returned from our simulate function."
   ]
  },
  {
   "cell_type": "code",
   "execution_count": 33,
   "metadata": {
    "collapsed": false,
    "deletable": true,
    "editable": true,
    "jupyter": {
     "outputs_hidden": false
    }
   },
   "outputs": [
    {
     "data": {
      "text/plain": [
       "{'operations': 7, 'cells_count': 8, 'runtime': '700 ms', 'lifecycles': 3}"
      ]
     },
     "execution_count": 33,
     "metadata": {},
     "output_type": "execute_result"
    }
   ],
   "source": [
    "simulate(3)"
   ]
  },
  {
   "cell_type": "markdown",
   "metadata": {},
   "source": [
    "Now to actually use our simulate method. In this particular example, I have provided examples of mitosis with varying amounts of starter cells -- 1, 3 and, 10. In the graphs below you can see how changing the number of starter cells dramatically impacts the total number of operations even though the amount of lifecycles remains unchanged. "
   ]
  },
  {
   "cell_type": "code",
   "execution_count": 34,
   "metadata": {
    "collapsed": false,
    "deletable": true,
    "editable": true,
    "jupyter": {
     "outputs_hidden": false
    }
   },
   "outputs": [
    {
     "data": {
      "text/html": [
       "\n",
       "        <iframe\n",
       "            width=\"100%\"\n",
       "            height=\"525px\"\n",
       "            src=\"https://plot.ly/~MattOrahood/0.embed\"\n",
       "            frameborder=\"0\"\n",
       "            allowfullscreen\n",
       "        ></iframe>\n",
       "        "
      ],
      "text/plain": [
       "<IPython.lib.display.IFrame at 0x11641a940>"
      ]
     },
     "execution_count": 34,
     "metadata": {},
     "output_type": "execute_result"
    }
   ],
   "source": [
    "import chart_studio.plotly as plotly\n",
    "import plotly.graph_objs as go\n",
    "\n",
    "combined_data = list()\n",
    "data_points = list()\n",
    "\n",
    "for lifecycles in range(1,10):\n",
    "    data_points.append(simulate(lifecycles))\n",
    "    \n",
    "data = go.Scatter(\n",
    "    x = list(map(lambda x: x['lifecycles'], data_points)), \n",
    "    y = list(map(lambda x: x['operations'], data_points)),\n",
    "    mode = 'lines+markers',\n",
    "    name = 'Starting cells 1'\n",
    ")\n",
    "\n",
    "combined_data.append(data)\n",
    "data_points = list()\n",
    "\n",
    "for lifecycles in range(1,10):\n",
    "    data_points.append(simulate(lifecycles, 3))\n",
    "    \n",
    "data = go.Scatter(\n",
    "    x = list(map(lambda x: x['lifecycles'], data_points)), \n",
    "    y = list(map(lambda x: x['operations'], data_points)),\n",
    "    mode = 'lines+markers',\n",
    "    name = 'Starting cells 3'\n",
    ")\n",
    "\n",
    "combined_data.append(data)\n",
    "data_points = list()\n",
    "\n",
    "for lifecycles in range(1,10):\n",
    "    data_points.append(simulate(lifecycles, 10))\n",
    "    \n",
    "data = go.Scatter(\n",
    "    x = list(map(lambda x: x['lifecycles'], data_points)), \n",
    "    y = list(map(lambda x: x['operations'], data_points)),\n",
    "    mode = 'lines+markers',\n",
    "    name = 'Starting cells 10'\n",
    ")\n",
    "    \n",
    "combined_data.append(data)\n",
    "\n",
    "layout = dict(title = 'Mitosis Lifecycle Operations',\n",
    "              xaxis = dict(title = 'Lifecycles'),\n",
    "              yaxis = dict(title = 'Operations'))\n",
    "\n",
    "figure = dict(data=combined_data, layout=layout)\n",
    "plotly.iplot(figure, filename='mitosis-lifecycle-operations')"
   ]
  },
  {
   "cell_type": "markdown",
   "metadata": {},
   "source": [
    "We will assume that each operation executed takes 100 ms and we are using the default parameters for the 'simulate' method. For our program to run roughly 1,000,000 years we would have to only iterate over a surpringly low, 49 mitosis lifecycles."
   ]
  }
 ],
 "metadata": {
  "kernelspec": {
   "display_name": "Python 3",
   "language": "python",
   "name": "python3"
  },
  "language_info": {
   "codemirror_mode": {
    "name": "ipython",
    "version": 3
   },
   "file_extension": ".py",
   "mimetype": "text/x-python",
   "name": "python",
   "nbconvert_exporter": "python",
   "pygments_lexer": "ipython3",
   "version": "3.6.5"
  }
 },
 "nbformat": 4,
 "nbformat_minor": 4
}
